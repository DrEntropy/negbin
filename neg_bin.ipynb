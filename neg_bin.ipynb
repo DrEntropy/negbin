{
 "cells": [
  {
   "cell_type": "markdown",
   "metadata": {},
   "source": [
    "## Experiments with Nutpie and PYMC built in sampler\n",
    "\n",
    "In another project I was seeing substantial seed ups (30x) in sampling with nutpie vs the default sampler for a model that fit negative binomial to about 200k samples.  The purpose of this notebook was to produce a minimal example to demonstrate the speed up. \n",
    "\n",
    "However, in this notebook after upgrading to recent PYMC, the sampler lets you know real time what the different chains are doing and I see what was happening is that some chains were getting stuck. This didn't seem to happen with the nutpie sampler, but I have not spent time checking that this is not just due to small sample size.   After changing the priors sampling improved for pymc but even so nutpie is a bit faster (only 50% not 30x though!)"
   ]
  },
  {
   "cell_type": "code",
   "execution_count": 12,
   "metadata": {},
   "outputs": [
    {
     "data": {
      "text/plain": [
       "(2.703, 3.9174470002796467)"
      ]
     },
     "execution_count": 12,
     "metadata": {},
     "output_type": "execute_result"
    }
   ],
   "source": [
    "import numpy as np\n",
    "import pymc as pm\n",
    "import arviz as az\n",
    "import time\n",
    "\n",
    "def simulate_data(mu, alpha, num):\n",
    "    neg_bin = pm.NegativeBinomial.dist(mu=mu, alpha=alpha)\n",
    "    return pm.draw(neg_bin, num)\n",
    "\n",
    "test1 = simulate_data(2.7, 0.6, 10000)   \n",
    "np.mean(test1),np.std(test1)"
   ]
  },
  {
   "cell_type": "code",
   "execution_count": 20,
   "metadata": {},
   "outputs": [
    {
     "data": {
      "text/plain": [
       "'5.21.0'"
      ]
     },
     "execution_count": 20,
     "metadata": {},
     "output_type": "execute_result"
    }
   ],
   "source": [
    "pm.__version__"
   ]
  },
  {
   "cell_type": "code",
   "execution_count": 15,
   "metadata": {},
   "outputs": [],
   "source": [
    "with pm.Model() as nb_model:\n",
    "    data = pm.Data('data', test1)\n",
    "    mu = pm.TruncatedNormal('mu', mu = 2, sigma=5, lower = 0.0)\n",
    "    alpha = pm.Gamma('alpha', alpha =5, beta =.5 )\n",
    "    counts = pm.NegativeBinomial('counts',mu=mu, alpha=alpha, shape = data.shape, observed = data)"
   ]
  },
  {
   "cell_type": "code",
   "execution_count": 16,
   "metadata": {},
   "outputs": [
    {
     "name": "stderr",
     "output_type": "stream",
     "text": [
      "Initializing NUTS using jitter+adapt_diag...\n",
      "Multiprocess sampling (4 chains in 4 jobs)\n",
      "NUTS: [mu, alpha]\n"
     ]
    },
    {
     "data": {
      "application/vnd.jupyter.widget-view+json": {
       "model_id": "bec06f026920455a96072d9b9be97415",
       "version_major": 2,
       "version_minor": 0
      },
      "text/plain": [
       "Output()"
      ]
     },
     "metadata": {},
     "output_type": "display_data"
    },
    {
     "data": {
      "text/html": [
       "<pre style=\"white-space:pre;overflow-x:auto;line-height:normal;font-family:Menlo,'DejaVu Sans Mono',consolas,'Courier New',monospace\"></pre>\n"
      ],
      "text/plain": []
     },
     "metadata": {},
     "output_type": "display_data"
    },
    {
     "name": "stderr",
     "output_type": "stream",
     "text": [
      "Sampling 4 chains for 1_000 tune and 1_000 draw iterations (4_000 + 4_000 draws total) took 4 seconds.\n"
     ]
    },
    {
     "name": "stdout",
     "output_type": "stream",
     "text": [
      "Elapsed time: 11.500265 seconds\n"
     ]
    }
   ],
   "source": [
    "start = time.perf_counter()\n",
    "\n",
    "\n",
    "with nb_model:\n",
    "    trace = pm.sample(1000, tune=1000)  \n",
    "\n",
    "end = time.perf_counter()\n",
    "\n",
    "print(f\"Elapsed time: {end - start:.6f} seconds\")"
   ]
  },
  {
   "cell_type": "code",
   "execution_count": 17,
   "metadata": {},
   "outputs": [],
   "source": [
    "test2 = simulate_data(2.7, 0.6, 200000) \n",
    "with nb_model:\n",
    "    pm.set_data({'data': test2})"
   ]
  },
  {
   "cell_type": "markdown",
   "metadata": {},
   "source": [
    "With default sampler, the chains tend to get stuck (sometimes) and take a long time to finish."
   ]
  },
  {
   "cell_type": "code",
   "execution_count": 18,
   "metadata": {},
   "outputs": [
    {
     "name": "stderr",
     "output_type": "stream",
     "text": [
      "Initializing NUTS using jitter+adapt_diag...\n",
      "Multiprocess sampling (4 chains in 4 jobs)\n",
      "NUTS: [mu, alpha]\n"
     ]
    },
    {
     "data": {
      "application/vnd.jupyter.widget-view+json": {
       "model_id": "14ea111200c14e329bf17151dca54fd6",
       "version_major": 2,
       "version_minor": 0
      },
      "text/plain": [
       "Output()"
      ]
     },
     "metadata": {},
     "output_type": "display_data"
    },
    {
     "data": {
      "text/html": [
       "<pre style=\"white-space:pre;overflow-x:auto;line-height:normal;font-family:Menlo,'DejaVu Sans Mono',consolas,'Courier New',monospace\"></pre>\n"
      ],
      "text/plain": []
     },
     "metadata": {},
     "output_type": "display_data"
    },
    {
     "name": "stderr",
     "output_type": "stream",
     "text": [
      "Sampling 4 chains for 1_000 tune and 1_000 draw iterations (4_000 + 4_000 draws total) took 87 seconds.\n"
     ]
    },
    {
     "name": "stdout",
     "output_type": "stream",
     "text": [
      "Elapsed time: 87.473503 seconds\n"
     ]
    },
    {
     "data": {
      "application/vnd.microsoft.datawrangler.viewer.v0+json": {
       "columns": [
        {
         "name": "index",
         "rawType": "object",
         "type": "string"
        },
        {
         "name": "mean",
         "rawType": "float64",
         "type": "float"
        },
        {
         "name": "sd",
         "rawType": "float64",
         "type": "float"
        },
        {
         "name": "hdi_3%",
         "rawType": "float64",
         "type": "float"
        },
        {
         "name": "hdi_97%",
         "rawType": "float64",
         "type": "float"
        },
        {
         "name": "mcse_mean",
         "rawType": "float64",
         "type": "float"
        },
        {
         "name": "mcse_sd",
         "rawType": "float64",
         "type": "float"
        },
        {
         "name": "ess_bulk",
         "rawType": "float64",
         "type": "float"
        },
        {
         "name": "ess_tail",
         "rawType": "float64",
         "type": "float"
        },
        {
         "name": "r_hat",
         "rawType": "float64",
         "type": "float"
        }
       ],
       "conversionMethod": "pd.DataFrame",
       "ref": "b6ec58c0-74e5-454f-82b9-45ee90389365",
       "rows": [
        [
         "mu",
         "2.69",
         "0.008",
         "2.674",
         "2.706",
         "0.0",
         "0.0",
         "3330.0",
         "2872.0",
         "1.0"
        ],
        [
         "alpha",
         "0.6",
         "0.003",
         "0.595",
         "0.605",
         "0.0",
         "0.0",
         "4152.0",
         "2917.0",
         "1.0"
        ]
       ],
       "shape": {
        "columns": 9,
        "rows": 2
       }
      },
      "text/html": [
       "<div>\n",
       "<style scoped>\n",
       "    .dataframe tbody tr th:only-of-type {\n",
       "        vertical-align: middle;\n",
       "    }\n",
       "\n",
       "    .dataframe tbody tr th {\n",
       "        vertical-align: top;\n",
       "    }\n",
       "\n",
       "    .dataframe thead th {\n",
       "        text-align: right;\n",
       "    }\n",
       "</style>\n",
       "<table border=\"1\" class=\"dataframe\">\n",
       "  <thead>\n",
       "    <tr style=\"text-align: right;\">\n",
       "      <th></th>\n",
       "      <th>mean</th>\n",
       "      <th>sd</th>\n",
       "      <th>hdi_3%</th>\n",
       "      <th>hdi_97%</th>\n",
       "      <th>mcse_mean</th>\n",
       "      <th>mcse_sd</th>\n",
       "      <th>ess_bulk</th>\n",
       "      <th>ess_tail</th>\n",
       "      <th>r_hat</th>\n",
       "    </tr>\n",
       "  </thead>\n",
       "  <tbody>\n",
       "    <tr>\n",
       "      <th>mu</th>\n",
       "      <td>2.69</td>\n",
       "      <td>0.008</td>\n",
       "      <td>2.674</td>\n",
       "      <td>2.706</td>\n",
       "      <td>0.0</td>\n",
       "      <td>0.0</td>\n",
       "      <td>3330.0</td>\n",
       "      <td>2872.0</td>\n",
       "      <td>1.0</td>\n",
       "    </tr>\n",
       "    <tr>\n",
       "      <th>alpha</th>\n",
       "      <td>0.60</td>\n",
       "      <td>0.003</td>\n",
       "      <td>0.595</td>\n",
       "      <td>0.605</td>\n",
       "      <td>0.0</td>\n",
       "      <td>0.0</td>\n",
       "      <td>4152.0</td>\n",
       "      <td>2917.0</td>\n",
       "      <td>1.0</td>\n",
       "    </tr>\n",
       "  </tbody>\n",
       "</table>\n",
       "</div>"
      ],
      "text/plain": [
       "       mean     sd  hdi_3%  hdi_97%  mcse_mean  mcse_sd  ess_bulk  ess_tail  \\\n",
       "mu     2.69  0.008   2.674    2.706        0.0      0.0    3330.0    2872.0   \n",
       "alpha  0.60  0.003   0.595    0.605        0.0      0.0    4152.0    2917.0   \n",
       "\n",
       "       r_hat  \n",
       "mu       1.0  \n",
       "alpha    1.0  "
      ]
     },
     "execution_count": 18,
     "metadata": {},
     "output_type": "execute_result"
    }
   ],
   "source": [
    "with nb_model:\n",
    "    start = time.perf_counter()\n",
    "    trace = pm.sample(1000, tune=1000) \n",
    "    end = time.perf_counter()\n",
    "    print(f\"Elapsed time: {end - start:.6f} seconds\")\n",
    "\n",
    "az.summary(trace)"
   ]
  },
  {
   "cell_type": "markdown",
   "metadata": {},
   "source": [
    "Nutpie (so far in my experiments) has not exhibited this behavior"
   ]
  },
  {
   "cell_type": "code",
   "execution_count": 19,
   "metadata": {},
   "outputs": [
    {
     "name": "stderr",
     "output_type": "stream",
     "text": [
      "/Users/ronaldlegere/miniconda3/envs/nutpie/lib/python3.12/site-packages/pymc/pytensorf.py:952: FutureWarning: compile_pymc was renamed to compile. Old name will be removed in a future release of PyMC\n",
      "  warnings.warn(\n",
      "/Users/ronaldlegere/miniconda3/envs/nutpie/lib/python3.12/site-packages/pymc/pytensorf.py:952: FutureWarning: compile_pymc was renamed to compile. Old name will be removed in a future release of PyMC\n",
      "  warnings.warn(\n"
     ]
    },
    {
     "data": {
      "text/html": [
       "\n",
       "<style>\n",
       "    :root {\n",
       "        --column-width-1: 40%; /* Progress column width */\n",
       "        --column-width-2: 15%; /* Chain column width */\n",
       "        --column-width-3: 15%; /* Divergences column width */\n",
       "        --column-width-4: 15%; /* Step Size column width */\n",
       "        --column-width-5: 15%; /* Gradients/Draw column width */\n",
       "    }\n",
       "\n",
       "    .nutpie {\n",
       "        max-width: 800px;\n",
       "        margin: 10px auto;\n",
       "        font-family: 'Segoe UI', Tahoma, Geneva, Verdana, sans-serif;\n",
       "        //color: #333;\n",
       "        //background-color: #fff;\n",
       "        padding: 10px;\n",
       "        box-shadow: 0 4px 6px rgba(0,0,0,0.1);\n",
       "        border-radius: 8px;\n",
       "        font-size: 14px; /* Smaller font size for a more compact look */\n",
       "    }\n",
       "    .nutpie table {\n",
       "        width: 100%;\n",
       "        border-collapse: collapse; /* Remove any extra space between borders */\n",
       "    }\n",
       "    .nutpie th, .nutpie td {\n",
       "        padding: 8px 10px; /* Reduce padding to make table more compact */\n",
       "        text-align: left;\n",
       "        border-bottom: 1px solid #888;\n",
       "    }\n",
       "    .nutpie th {\n",
       "        //background-color: #f0f0f0;\n",
       "    }\n",
       "\n",
       "    .nutpie th:nth-child(1) { width: var(--column-width-1); }\n",
       "    .nutpie th:nth-child(2) { width: var(--column-width-2); }\n",
       "    .nutpie th:nth-child(3) { width: var(--column-width-3); }\n",
       "    .nutpie th:nth-child(4) { width: var(--column-width-4); }\n",
       "    .nutpie th:nth-child(5) { width: var(--column-width-5); }\n",
       "\n",
       "    .nutpie progress {\n",
       "        width: 100%;\n",
       "        height: 15px; /* Smaller progress bars */\n",
       "        border-radius: 5px;\n",
       "    }\n",
       "    progress::-webkit-progress-bar {\n",
       "        background-color: #eee;\n",
       "        border-radius: 5px;\n",
       "    }\n",
       "    progress::-webkit-progress-value {\n",
       "        background-color: #5cb85c;\n",
       "        border-radius: 5px;\n",
       "    }\n",
       "    progress::-moz-progress-bar {\n",
       "        background-color: #5cb85c;\n",
       "        border-radius: 5px;\n",
       "    }\n",
       "    .nutpie .progress-cell {\n",
       "        width: 100%;\n",
       "    }\n",
       "\n",
       "    .nutpie p strong { font-size: 16px; font-weight: bold; }\n",
       "\n",
       "    @media (prefers-color-scheme: dark) {\n",
       "        .nutpie {\n",
       "            //color: #ddd;\n",
       "            //background-color: #1e1e1e;\n",
       "            box-shadow: 0 4px 6px rgba(0,0,0,0.2);\n",
       "        }\n",
       "        .nutpie table, .nutpie th, .nutpie td {\n",
       "            border-color: #555;\n",
       "            color: #ccc;\n",
       "        }\n",
       "        .nutpie th {\n",
       "            background-color: #2a2a2a;\n",
       "        }\n",
       "        .nutpie progress::-webkit-progress-bar {\n",
       "            background-color: #444;\n",
       "        }\n",
       "        .nutpie progress::-webkit-progress-value {\n",
       "            background-color: #3178c6;\n",
       "        }\n",
       "        .nutpie progress::-moz-progress-bar {\n",
       "            background-color: #3178c6;\n",
       "        }\n",
       "    }\n",
       "</style>\n"
      ],
      "text/plain": [
       "<IPython.core.display.HTML object>"
      ]
     },
     "metadata": {},
     "output_type": "display_data"
    },
    {
     "data": {
      "text/html": [
       "\n",
       "<div class=\"nutpie\">\n",
       "    <p><strong>Sampler Progress</strong></p>\n",
       "    <p>Total Chains: <span id=\"total-chains\">4</span></p>\n",
       "    <p>Active Chains: <span id=\"active-chains\">0</span></p>\n",
       "    <p>\n",
       "        Finished Chains:\n",
       "        <span id=\"active-chains\">4</span>\n",
       "    </p>\n",
       "    <p>Sampling for a minute</p>\n",
       "    <p>\n",
       "        Estimated Time to Completion:\n",
       "        <span id=\"eta\">now</span>\n",
       "    </p>\n",
       "\n",
       "    <progress\n",
       "        id=\"total-progress-bar\"\n",
       "        max=\"8000\"\n",
       "        value=\"8000\">\n",
       "    </progress>\n",
       "    <table>\n",
       "        <thead>\n",
       "            <tr>\n",
       "                <th>Progress</th>\n",
       "                <th>Draws</th>\n",
       "                <th>Divergences</th>\n",
       "                <th>Step Size</th>\n",
       "                <th>Gradients/Draw</th>\n",
       "            </tr>\n",
       "        </thead>\n",
       "        <tbody id=\"chain-details\">\n",
       "            \n",
       "                <tr>\n",
       "                    <td class=\"progress-cell\">\n",
       "                        <progress\n",
       "                            max=\"2000\"\n",
       "                            value=\"2000\">\n",
       "                        </progress>\n",
       "                    </td>\n",
       "                    <td>2000</td>\n",
       "                    <td>0</td>\n",
       "                    <td>1.20</td>\n",
       "                    <td>3</td>\n",
       "                </tr>\n",
       "            \n",
       "                <tr>\n",
       "                    <td class=\"progress-cell\">\n",
       "                        <progress\n",
       "                            max=\"2000\"\n",
       "                            value=\"2000\">\n",
       "                        </progress>\n",
       "                    </td>\n",
       "                    <td>2000</td>\n",
       "                    <td>0</td>\n",
       "                    <td>1.20</td>\n",
       "                    <td>3</td>\n",
       "                </tr>\n",
       "            \n",
       "                <tr>\n",
       "                    <td class=\"progress-cell\">\n",
       "                        <progress\n",
       "                            max=\"2000\"\n",
       "                            value=\"2000\">\n",
       "                        </progress>\n",
       "                    </td>\n",
       "                    <td>2000</td>\n",
       "                    <td>0</td>\n",
       "                    <td>1.20</td>\n",
       "                    <td>3</td>\n",
       "                </tr>\n",
       "            \n",
       "                <tr>\n",
       "                    <td class=\"progress-cell\">\n",
       "                        <progress\n",
       "                            max=\"2000\"\n",
       "                            value=\"2000\">\n",
       "                        </progress>\n",
       "                    </td>\n",
       "                    <td>2000</td>\n",
       "                    <td>0</td>\n",
       "                    <td>1.22</td>\n",
       "                    <td>3</td>\n",
       "                </tr>\n",
       "            \n",
       "            </tr>\n",
       "        </tbody>\n",
       "    </table>\n",
       "</div>\n"
      ],
      "text/plain": [
       "<nutpie.sample._BackgroundSampler at 0x32bf7d9d0>"
      ]
     },
     "metadata": {},
     "output_type": "display_data"
    },
    {
     "name": "stdout",
     "output_type": "stream",
     "text": [
      "Elapsed time: 65.142873 seconds\n"
     ]
    }
   ],
   "source": [
    "with nb_model:\n",
    "    start = time.perf_counter()\n",
    "    trace = pm.sample(1000, tune=1000, nuts_sampler=\"nutpie\")\n",
    "    end = time.perf_counter()\n",
    "    print(f\"Elapsed time: {end - start:.6f} seconds\")\n"
   ]
  },
  {
   "cell_type": "markdown",
   "metadata": {},
   "source": [
    "Only a slide speed up here.   "
   ]
  },
  {
   "cell_type": "code",
   "execution_count": null,
   "metadata": {},
   "outputs": [],
   "source": []
  }
 ],
 "metadata": {
  "kernelspec": {
   "display_name": "nutpie",
   "language": "python",
   "name": "python3"
  },
  "language_info": {
   "codemirror_mode": {
    "name": "ipython",
    "version": 3
   },
   "file_extension": ".py",
   "mimetype": "text/x-python",
   "name": "python",
   "nbconvert_exporter": "python",
   "pygments_lexer": "ipython3",
   "version": "3.12.9"
  }
 },
 "nbformat": 4,
 "nbformat_minor": 2
}
